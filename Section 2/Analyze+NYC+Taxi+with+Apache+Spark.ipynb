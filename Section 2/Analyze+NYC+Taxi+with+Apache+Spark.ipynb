{
  "metadata": {
    "saveOutput": true,
    "language_info": {
      "name": "python"
    }
  },
  "nbformat": 4,
  "nbformat_minor": 2,
  "cells": [
    {
      "cell_type": "markdown",
      "metadata": {},
      "source": [
        "## Load the NYC Taxi data into the Spark nyctaxi database\n",
        ""
      ],
      "attachments": {}
    },
    {
      "cell_type": "code",
      "execution_count": null,
      "outputs": [],
      "metadata": {},
      "source": [
        "%%spark\n",
        "spark.sql(\"CREATE DATABASE IF NOT EXISTS nyctaxi\")\n",
        "val df = spark.read.sqlanalytics(\"SQLPOOL1.dbo.Trip\") \n",
        "df.write.mode(\"overwrite\").saveAsTable(\"nyctaxi.trip\")"
      ],
      "attachments": {}
    },
    {
      "cell_type": "markdown",
      "metadata": {},
      "source": [
        "## Analyze the NYC Taxi data using Spark and notebooks\n",
        ""
      ],
      "attachments": {}
    },
    {
      "cell_type": "code",
      "execution_count": null,
      "outputs": [],
      "metadata": {},
      "source": [
        "%%pyspark\n",
        "df = spark.sql(\"SELECT * FROM nyctaxi.trip\") \n",
        "display(df)"
      ],
      "attachments": {}
    },
    {
      "cell_type": "code",
      "execution_count": null,
      "outputs": [],
      "metadata": {},
      "source": [
        "%%pyspark\n",
        "df = spark.sql(\"\"\"\n",
        "   SELECT PassengerCount,\n",
        "       SUM(TripDistanceMiles) as SumTripDistance,\n",
        "       AVG(TripDistanceMiles) as AvgTripDistance\n",
        "   FROM nyctaxi.trip\n",
        "   WHERE TripDistanceMiles > 0 AND PassengerCount > 0\n",
        "   GROUP BY PassengerCount\n",
        "   ORDER BY PassengerCount\n",
        "\"\"\") \n",
        "display(df)\n",
        "df.write.saveAsTable(\"nyctaxi.passengercountstats\")"
      ],
      "attachments": {}
    },
    {
      "cell_type": "markdown",
      "metadata": {},
      "source": [
        "## Load data from a Spark table into a dedicated SQL pool table"
      ],
      "attachments": {}
    },
    {
      "cell_type": "code",
      "execution_count": null,
      "outputs": [],
      "metadata": {},
      "source": [
        "%%spark\n",
        "val df = spark.sql(\"SELECT * FROM nyctaxi.passengercountstats\")\n",
        "df.write.sqlanalytics(\"SQLPOOL1.dbo.PassengerCountStats\", Constants.INTERNAL )"
      ],
      "attachments": {}
    }
  ]
}